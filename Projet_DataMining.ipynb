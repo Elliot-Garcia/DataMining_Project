{
  "nbformat": 4,
  "nbformat_minor": 0,
  "metadata": {
    "colab": {
      "name": "Projet-DataMining.ipynb",
      "provenance": [],
      "collapsed_sections": [],
      "authorship_tag": "ABX9TyOKwXWOGVc6uR6+SrY14L5M",
      "include_colab_link": true
    },
    "kernelspec": {
      "name": "python3",
      "display_name": "Python 3"
    },
    "language_info": {
      "name": "python"
    }
  },
  "cells": [
    {
      "cell_type": "markdown",
      "metadata": {
        "id": "view-in-github",
        "colab_type": "text"
      },
      "source": [
        "<a href=\"https://colab.research.google.com/github/Elliot-Garcia/DataMining_Project/blob/main/Projet_DataMining.ipynb\" target=\"_parent\"><img src=\"https://colab.research.google.com/assets/colab-badge.svg\" alt=\"Open In Colab\"/></a>"
      ]
    },
    {
      "cell_type": "markdown",
      "source": [
        "### Projet - Data Mining"
      ],
      "metadata": {
        "id": "NWJ14sLjK_Lp"
      }
    },
    {
      "cell_type": "markdown",
      "source": [
        "## I. Collecte des données"
      ],
      "metadata": {
        "id": "8al68CfrLJBV"
      }
    },
    {
      "cell_type": "markdown",
      "source": [
        "Nous récupérons les images et données sur le site https://www.kaggle.com/"
      ],
      "metadata": {
        "id": "9LReFSzqLZX4"
      }
    },
    {
      "cell_type": "code",
      "source": [
        "! git clone https://github.com/Elliot-Garcia/DataMining_Project\n",
        "! kaggle datasets download -d ...\n",
        "!unzip  -d ./images"
      ],
      "metadata": {
        "id": "VBngzR8MLmae"
      },
      "execution_count": null,
      "outputs": []
    }
  ]
}
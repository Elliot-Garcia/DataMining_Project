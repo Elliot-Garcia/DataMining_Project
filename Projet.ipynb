{
 "cells": [
  {
   "cell_type": "markdown",
   "metadata": {},
   "source": [
    "# Projet - Data Mining"
   ]
  },
  {
   "cell_type": "markdown",
   "metadata": {},
   "source": [
    "## 1 - Collecte des données"
   ]
  },
  {
   "cell_type": "code",
   "execution_count": null,
   "metadata": {},
   "outputs": [],
   "source": [
    "import numpy as np \n",
    "dataset = np.loadtxt(\"pokemon.csv\", dtype={'names': ('name', 'type1','type2'), \n",
    "       'formats': ('U100', 'U100','U100')}, \n",
    "        skiprows=1, delimiter=\",\", encoding=\"UTF-8\") \n",
    "print(dataset)"
   ]
  }
 ],
 "metadata": {
  "language_info": {
   "name": "python"
  },
  "orig_nbformat": 4
 },
 "nbformat": 4,
 "nbformat_minor": 2
}

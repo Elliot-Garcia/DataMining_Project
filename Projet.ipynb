{
 "cells": [
  {
   "cell_type": "markdown",
   "metadata": {},
   "source": [
    "# Projet - Data Mining"
   ]
  },
  {
   "cell_type": "markdown",
   "metadata": {},
   "source": [
    "## 1 - Collecte des données"
   ]
  },
  {
   "cell_type": "code",
   "execution_count": 1,
   "metadata": {},
   "outputs": [
    {
     "ename": "ValueError",
     "evalue": "Wrong number of columns at line 5",
     "output_type": "error",
     "traceback": [
      "\u001b[0;31m---------------------------------------------------------------------------\u001b[0m",
      "\u001b[0;31mValueError\u001b[0m                                Traceback (most recent call last)",
      "\u001b[1;32m/home/falgayrettes/Documents/semestre8/DataMining_Project/Projet.ipynb Cell 3'\u001b[0m in \u001b[0;36m<cell line: 2>\u001b[0;34m()\u001b[0m\n\u001b[1;32m      <a href='vscode-notebook-cell:/home/falgayrettes/Documents/semestre8/DataMining_Project/Projet.ipynb#ch0000002?line=0'>1</a>\u001b[0m \u001b[39mimport\u001b[39;00m \u001b[39mnumpy\u001b[39;00m \u001b[39mas\u001b[39;00m \u001b[39mnp\u001b[39;00m \n\u001b[0;32m----> <a href='vscode-notebook-cell:/home/falgayrettes/Documents/semestre8/DataMining_Project/Projet.ipynb#ch0000002?line=1'>2</a>\u001b[0m dataset \u001b[39m=\u001b[39m np\u001b[39m.\u001b[39;49mloadtxt(\u001b[39m\"\u001b[39;49m\u001b[39mpokemon.csv\u001b[39;49m\u001b[39m\"\u001b[39;49m, dtype\u001b[39m=\u001b[39;49m{\u001b[39m'\u001b[39;49m\u001b[39mnames\u001b[39;49m\u001b[39m'\u001b[39;49m: (\u001b[39m'\u001b[39;49m\u001b[39mname\u001b[39;49m\u001b[39m'\u001b[39;49m, \u001b[39m'\u001b[39;49m\u001b[39mtype1\u001b[39;49m\u001b[39m'\u001b[39;49m,\u001b[39m'\u001b[39;49m\u001b[39mtype2\u001b[39;49m\u001b[39m'\u001b[39;49m), \n\u001b[1;32m      <a href='vscode-notebook-cell:/home/falgayrettes/Documents/semestre8/DataMining_Project/Projet.ipynb#ch0000002?line=2'>3</a>\u001b[0m        \u001b[39m'\u001b[39;49m\u001b[39mformats\u001b[39;49m\u001b[39m'\u001b[39;49m: (\u001b[39m'\u001b[39;49m\u001b[39mU100\u001b[39;49m\u001b[39m'\u001b[39;49m, \u001b[39m'\u001b[39;49m\u001b[39mU100\u001b[39;49m\u001b[39m'\u001b[39;49m,\u001b[39m'\u001b[39;49m\u001b[39mU100\u001b[39;49m\u001b[39m'\u001b[39;49m)}, \n\u001b[1;32m      <a href='vscode-notebook-cell:/home/falgayrettes/Documents/semestre8/DataMining_Project/Projet.ipynb#ch0000002?line=3'>4</a>\u001b[0m         skiprows\u001b[39m=\u001b[39;49m\u001b[39m1\u001b[39;49m, delimiter\u001b[39m=\u001b[39;49m\u001b[39m\"\u001b[39;49m\u001b[39m,\u001b[39;49m\u001b[39m\"\u001b[39;49m, encoding\u001b[39m=\u001b[39;49m\u001b[39m\"\u001b[39;49m\u001b[39mUTF-8\u001b[39;49m\u001b[39m\"\u001b[39;49m) \n\u001b[1;32m      <a href='vscode-notebook-cell:/home/falgayrettes/Documents/semestre8/DataMining_Project/Projet.ipynb#ch0000002?line=4'>5</a>\u001b[0m \u001b[39mprint\u001b[39m(dataset)\n",
      "File \u001b[0;32m~/.local/lib/python3.8/site-packages/numpy/lib/npyio.py:1159\u001b[0m, in \u001b[0;36mloadtxt\u001b[0;34m(fname, dtype, comments, delimiter, converters, skiprows, usecols, unpack, ndmin, encoding, max_rows, like)\u001b[0m\n\u001b[1;32m   <a href='file:///home/falgayrettes/.local/lib/python3.8/site-packages/numpy/lib/npyio.py?line=1156'>1157</a>\u001b[0m     words \u001b[39m=\u001b[39m usecols_getter(words)\n\u001b[1;32m   <a href='file:///home/falgayrettes/.local/lib/python3.8/site-packages/numpy/lib/npyio.py?line=1157'>1158</a>\u001b[0m \u001b[39melif\u001b[39;00m \u001b[39mlen\u001b[39m(words) \u001b[39m!=\u001b[39m ncols:\n\u001b[0;32m-> <a href='file:///home/falgayrettes/.local/lib/python3.8/site-packages/numpy/lib/npyio.py?line=1158'>1159</a>\u001b[0m     \u001b[39mraise\u001b[39;00m \u001b[39mValueError\u001b[39;00m(\n\u001b[1;32m   <a href='file:///home/falgayrettes/.local/lib/python3.8/site-packages/numpy/lib/npyio.py?line=1159'>1160</a>\u001b[0m         \u001b[39mf\u001b[39m\u001b[39m\"\u001b[39m\u001b[39mWrong number of columns at line \u001b[39m\u001b[39m{\u001b[39;00mlineno\u001b[39m}\u001b[39;00m\u001b[39m\"\u001b[39m)\n\u001b[1;32m   <a href='file:///home/falgayrettes/.local/lib/python3.8/site-packages/numpy/lib/npyio.py?line=1160'>1161</a>\u001b[0m \u001b[39m# Convert each value according to its column, then pack it\u001b[39;00m\n\u001b[1;32m   <a href='file:///home/falgayrettes/.local/lib/python3.8/site-packages/numpy/lib/npyio.py?line=1161'>1162</a>\u001b[0m \u001b[39m# according to the dtype's nesting, and store it.\u001b[39;00m\n\u001b[1;32m   <a href='file:///home/falgayrettes/.local/lib/python3.8/site-packages/numpy/lib/npyio.py?line=1162'>1163</a>\u001b[0m chunk\u001b[39m.\u001b[39mappend(packer(convert_row(words)))\n",
      "\u001b[0;31mValueError\u001b[0m: Wrong number of columns at line 5"
     ]
    }
   ],
   "source": [
    "import numpy as np \n",
    "import pandas as pd \n",
    "import json\n",
    "\n",
    "df = pd.read_csv('pokemon.csv')\n",
    "json_data = df.to_json()\n",
    "print(json_data)\n"
   ]
  }
 ],
 "metadata": {
  "interpreter": {
   "hash": "916dbcbb3f70747c44a77c7bcd40155683ae19c65e1c03b4aa3499c5328201f1"
  },
  "kernelspec": {
   "display_name": "Python 3.8.10 64-bit",
   "language": "python",
   "name": "python3"
  },
  "language_info": {
   "codemirror_mode": {
    "name": "ipython",
    "version": 3
   },
   "file_extension": ".py",
   "mimetype": "text/x-python",
   "name": "python",
   "nbconvert_exporter": "python",
   "pygments_lexer": "ipython3",
   "version": "3.8.10"
  },
  "orig_nbformat": 4
 },
 "nbformat": 4,
 "nbformat_minor": 2
}

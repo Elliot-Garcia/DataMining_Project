{
 "cells": [
  {
   "cell_type": "markdown",
   "metadata": {},
   "source": [
    "# Projet - Data Mining"
   ]
  },
  {
   "cell_type": "markdown",
   "metadata": {},
   "source": [
    "## 1 - Collecte des données"
   ]
  },
  {
   "cell_type": "code",
   "execution_count": null,
   "metadata": {},
   "outputs": [],
   "source": [
    "import numpy as np \n",
    "import pandas as pd \n",
    "import json\n",
    "from pandas import json_normalize\n",
    "\n",
    "df = pd.read_csv('pokemon.csv')\n",
    "json_data = df.to_json()\n",
    "print(json_data)\n",
    "json_data= json_normalize(json_data)\n",
    "print(json_data)\n"
   ]
  },
  {
   "cell_type": "code",
   "execution_count": null,
   "metadata": {},
   "outputs": [],
   "source": [
    "from PIL import Image\n",
    "import numpy\n",
    "import math\n",
    "import matplotlib.pyplot as plot\n",
    "from sklearn.cluster import KMeans\n",
    "n=4\n",
    "imgfile = Image.open(\"images/abra.png\")\n",
    "numarray = numpy.array(imgfile.getdata(), numpy.uint8)\n",
    "clusters = KMeans(n_clusters = n)\n",
    "clusters.fit(numarray)\n",
    "print(clusters.labels_)\n",
    "npbins = numpy.arange(0, n+1)\n",
    "histogram = numpy.histogram(clusters.labels_, bins=npbins)\n",
    "print(histogram[0])\n",
    "histogram[0].sort()\n",
    "print(clusters.labels_)\n",
    "labels = numpy.unique(clusters.labels_)\n",
    "print(labels)\n",
    "barlist = plot.bar(labels, histogram[0])\n",
    "fig1, ax1 = plot.subplots()\n",
    "\n",
    "colors=[]\n",
    "for i in range(4):\n",
    "    colors.append('#%02x%02x%02x' % (\n",
    "    math.ceil(clusters.cluster_centers_[i][0]), \n",
    "        math.ceil(clusters.cluster_centers_[i][1]),\n",
    "    math.ceil(clusters.cluster_centers_[i][2])))\n",
    "    barlist[i].set_color(colors[i])\n",
    "\n",
    "ax1.pie(histogram[0], labels=labels, autopct='%1.1f%%', colors=colors)\n",
    "plot.show()"
   ]
  }
 ],
 "metadata": {
  "interpreter": {
   "hash": "916dbcbb3f70747c44a77c7bcd40155683ae19c65e1c03b4aa3499c5328201f1"
  },
  "kernelspec": {
   "display_name": "Python 3.8.10 64-bit",
   "language": "python",
   "name": "python3"
  },
  "language_info": {
   "codemirror_mode": {
    "name": "ipython",
    "version": 3
   },
   "file_extension": ".py",
   "mimetype": "text/x-python",
   "name": "python",
   "nbconvert_exporter": "python",
   "pygments_lexer": "ipython3",
   "version": "3.8.10"
  },
  "orig_nbformat": 4
 },
 "nbformat": 4,
 "nbformat_minor": 2
}

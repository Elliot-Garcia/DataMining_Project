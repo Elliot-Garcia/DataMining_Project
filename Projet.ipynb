{
 "cells": [
  {
   "cell_type": "markdown",
   "metadata": {},
   "source": [
    "# Projet - Data Mining"
   ]
  },
  {
   "cell_type": "markdown",
   "metadata": {},
   "source": [
    "## 1 - Collecte des données"
   ]
  },
  {
   "cell_type": "code",
   "execution_count": 1,
   "metadata": {},
   "outputs": [
    {
     "ename": "NotImplementedError",
     "evalue": "",
     "output_type": "error",
     "traceback": [
      "\u001b[0;31m---------------------------------------------------------------------------\u001b[0m",
      "\u001b[0;31mNotImplementedError\u001b[0m                       Traceback (most recent call last)",
      "\u001b[1;32m/home/falgayrettes/Documents/semestre8/DataMining_Project/Projet.ipynb Cell 3'\u001b[0m in \u001b[0;36m<cell line: 8>\u001b[0;34m()\u001b[0m\n\u001b[1;32m      <a href='vscode-notebook-cell:/home/falgayrettes/Documents/semestre8/DataMining_Project/Projet.ipynb#ch0000002?line=5'>6</a>\u001b[0m df \u001b[39m=\u001b[39m pd\u001b[39m.\u001b[39mread_csv(\u001b[39m'\u001b[39m\u001b[39mpokemon.csv\u001b[39m\u001b[39m'\u001b[39m)\n\u001b[1;32m      <a href='vscode-notebook-cell:/home/falgayrettes/Documents/semestre8/DataMining_Project/Projet.ipynb#ch0000002?line=6'>7</a>\u001b[0m json_data \u001b[39m=\u001b[39m df\u001b[39m.\u001b[39mto_json()\n\u001b[0;32m----> <a href='vscode-notebook-cell:/home/falgayrettes/Documents/semestre8/DataMining_Project/Projet.ipynb#ch0000002?line=7'>8</a>\u001b[0m json_data\u001b[39m=\u001b[39m json_normalize(json_data)\n\u001b[1;32m      <a href='vscode-notebook-cell:/home/falgayrettes/Documents/semestre8/DataMining_Project/Projet.ipynb#ch0000002?line=8'>9</a>\u001b[0m \u001b[39mprint\u001b[39m(json_data)\n",
      "File \u001b[0;32m~/.local/lib/python3.8/site-packages/pandas/io/json/_normalize.py:443\u001b[0m, in \u001b[0;36m_json_normalize\u001b[0;34m(data, record_path, meta, meta_prefix, record_prefix, errors, sep, max_level)\u001b[0m\n\u001b[1;32m    <a href='file:///home/falgayrettes/.local/lib/python3.8/site-packages/pandas/io/json/_normalize.py?line=440'>441</a>\u001b[0m     data \u001b[39m=\u001b[39m \u001b[39mlist\u001b[39m(data)\n\u001b[1;32m    <a href='file:///home/falgayrettes/.local/lib/python3.8/site-packages/pandas/io/json/_normalize.py?line=441'>442</a>\u001b[0m \u001b[39melse\u001b[39;00m:\n\u001b[0;32m--> <a href='file:///home/falgayrettes/.local/lib/python3.8/site-packages/pandas/io/json/_normalize.py?line=442'>443</a>\u001b[0m     \u001b[39mraise\u001b[39;00m \u001b[39mNotImplementedError\u001b[39;00m\n\u001b[1;32m    <a href='file:///home/falgayrettes/.local/lib/python3.8/site-packages/pandas/io/json/_normalize.py?line=444'>445</a>\u001b[0m \u001b[39m# check to see if a simple recursive function is possible to\u001b[39;00m\n\u001b[1;32m    <a href='file:///home/falgayrettes/.local/lib/python3.8/site-packages/pandas/io/json/_normalize.py?line=445'>446</a>\u001b[0m \u001b[39m# improve performance (see #15621) but only for cases such\u001b[39;00m\n\u001b[1;32m    <a href='file:///home/falgayrettes/.local/lib/python3.8/site-packages/pandas/io/json/_normalize.py?line=446'>447</a>\u001b[0m \u001b[39m# as pd.Dataframe(data) or pd.Dataframe(data, sep)\u001b[39;00m\n\u001b[1;32m    <a href='file:///home/falgayrettes/.local/lib/python3.8/site-packages/pandas/io/json/_normalize.py?line=447'>448</a>\u001b[0m \u001b[39mif\u001b[39;00m (\n\u001b[1;32m    <a href='file:///home/falgayrettes/.local/lib/python3.8/site-packages/pandas/io/json/_normalize.py?line=448'>449</a>\u001b[0m     record_path \u001b[39mis\u001b[39;00m \u001b[39mNone\u001b[39;00m\n\u001b[1;32m    <a href='file:///home/falgayrettes/.local/lib/python3.8/site-packages/pandas/io/json/_normalize.py?line=449'>450</a>\u001b[0m     \u001b[39mand\u001b[39;00m meta \u001b[39mis\u001b[39;00m \u001b[39mNone\u001b[39;00m\n\u001b[0;32m   (...)\u001b[0m\n\u001b[1;32m    <a href='file:///home/falgayrettes/.local/lib/python3.8/site-packages/pandas/io/json/_normalize.py?line=452'>453</a>\u001b[0m     \u001b[39mand\u001b[39;00m max_level \u001b[39mis\u001b[39;00m \u001b[39mNone\u001b[39;00m\n\u001b[1;32m    <a href='file:///home/falgayrettes/.local/lib/python3.8/site-packages/pandas/io/json/_normalize.py?line=453'>454</a>\u001b[0m ):\n",
      "\u001b[0;31mNotImplementedError\u001b[0m: "
     ]
    }
   ],
   "source": [
    "import numpy as np \n",
    "import pandas as pd \n",
    "import json\n",
    "from pandas import json_normalize\n",
    "\n",
    "df = pd.read_csv('pokemon.csv')\n",
    "json_data = df.to_json()\n",
    "print(json_data)\n",
    "json_data= json_normalize(json_data)\n",
    "print(json_data)\n"
   ]
  }
 ],
 "metadata": {
  "interpreter": {
   "hash": "916dbcbb3f70747c44a77c7bcd40155683ae19c65e1c03b4aa3499c5328201f1"
  },
  "kernelspec": {
   "display_name": "Python 3.8.10 64-bit",
   "language": "python",
   "name": "python3"
  },
  "language_info": {
   "codemirror_mode": {
    "name": "ipython",
    "version": 3
   },
   "file_extension": ".py",
   "mimetype": "text/x-python",
   "name": "python",
   "nbconvert_exporter": "python",
   "pygments_lexer": "ipython3",
   "version": "3.8.10"
  },
  "orig_nbformat": 4
 },
 "nbformat": 4,
 "nbformat_minor": 2
}
